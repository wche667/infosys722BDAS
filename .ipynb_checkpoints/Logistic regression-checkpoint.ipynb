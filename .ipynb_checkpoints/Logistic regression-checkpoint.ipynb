{
 "cells": [
  {
   "cell_type": "markdown",
   "id": "b749168b",
   "metadata": {},
   "source": [
    "# Data Mining"
   ]
  },
  {
   "cell_type": "markdown",
   "id": "33367015",
   "metadata": {},
   "source": [
    "## Step2: Data Understanding"
   ]
  },
  {
   "cell_type": "markdown",
   "id": "1bb79160",
   "metadata": {},
   "source": [
    "### 2.1 Load Dataset"
   ]
  },
  {
   "cell_type": "code",
   "execution_count": 1,
   "id": "2694362e",
   "metadata": {},
   "outputs": [
    {
     "name": "stderr",
     "output_type": "stream",
     "text": [
      "WARNING: An illegal reflective access operation has occurred\n",
      "WARNING: Illegal reflective access by org.apache.spark.unsafe.Platform (file:/home/ubuntu/spark-3.2.1-bin-hadoop2.7/jars/spark-unsafe_2.12-3.2.1.jar) to constructor java.nio.DirectByteBuffer(long,int)\n",
      "WARNING: Please consider reporting this to the maintainers of org.apache.spark.unsafe.Platform\n",
      "WARNING: Use --illegal-access=warn to enable warnings of further illegal reflective access operations\n",
      "WARNING: All illegal access operations will be denied in a future release\n",
      "Using Spark's default log4j profile: org/apache/spark/log4j-defaults.properties\n",
      "Setting default log level to \"WARN\".\n",
      "To adjust logging level use sc.setLogLevel(newLevel). For SparkR, use setLogLevel(newLevel).\n",
      "23/10/10 07:26:14 WARN NativeCodeLoader: Unable to load native-hadoop library for your platform... using builtin-java classes where applicable\n"
     ]
    }
   ],
   "source": [
    "# Must be included at the beginning of each new notebook. Remember to change the app name.\n",
    "import findspark\n",
    "findspark.init('/home/ubuntu/spark-3.2.1-bin-hadoop2.7')\n",
    "import pyspark\n",
    "from pyspark.sql import SparkSession\n",
    "spark = SparkSession.builder.appName('DU').getOrCreate()"
   ]
  },
  {
   "cell_type": "code",
   "execution_count": 2,
   "id": "308d1ce8",
   "metadata": {},
   "outputs": [
    {
     "name": "stderr",
     "output_type": "stream",
     "text": [
      "                                                                                \r"
     ]
    }
   ],
   "source": [
    "df = spark.read.csv('diabetes_prediction_dataset.csv',header=True)"
   ]
  },
  {
   "cell_type": "code",
   "execution_count": 3,
   "id": "5699f44a",
   "metadata": {},
   "outputs": [
    {
     "name": "stdout",
     "output_type": "stream",
     "text": [
      "+------+----+------------+-------------+---------------+-----+-----------+-------------------+--------+\n",
      "|gender| age|hypertension|heart_disease|smoking_history|  bmi|HbA1c_level|blood_glucose_level|diabetes|\n",
      "+------+----+------------+-------------+---------------+-----+-----------+-------------------+--------+\n",
      "|Female|80.0|           0|            1|          never|25.19|        6.6|                140|       0|\n",
      "|Female|54.0|           0|            0|        No Info|27.32|        6.6|                 80|       0|\n",
      "|  Male|28.0|           0|            0|          never|27.32|        5.7|                158|       0|\n",
      "|Female|36.0|           0|            0|        current|23.45|        5.0|                155|       0|\n",
      "|  Male|76.0|           1|            1|        current|20.14|        4.8|                155|       0|\n",
      "|Female|20.0|           0|            0|          never|27.32|        6.6|                 85|       0|\n",
      "|Female|44.0|           0|            0|          never|19.31|        6.5|                200|       1|\n",
      "|Female|79.0|           0|            0|        No Info|23.86|        5.7|                 85|       0|\n",
      "|  Male|42.0|           0|            0|          never|33.64|        4.8|                145|       0|\n",
      "|Female|32.0|           0|            0|          never|27.32|        5.0|                100|       0|\n",
      "|Female|53.0|           0|            0|          never|27.32|        6.1|                 85|       0|\n",
      "|Female|54.0|           0|            0|         former| 54.7|        6.0|                100|       0|\n",
      "|Female|78.0|           0|            0|         former|36.05|        5.0|                130|       0|\n",
      "|Female|67.0|           0|            0|          never|25.69|        5.8|                200|       0|\n",
      "|Female|76.0|           0|            0|        No Info|27.32|        5.0|                160|       0|\n",
      "|  Male|78.0|           0|            0|        No Info|27.32|        6.6|                126|       0|\n",
      "|  Male|15.0|           0|            0|          never|30.36|        6.1|                200|       0|\n",
      "|Female|42.0|           0|            0|          never|24.48|        5.7|                158|       0|\n",
      "|Female|42.0|           0|            0|        No Info|27.32|        5.7|                 80|       0|\n",
      "|  Male|37.0|           0|            0|           ever|25.72|        3.5|                159|       0|\n",
      "+------+----+------------+-------------+---------------+-----+-----------+-------------------+--------+\n",
      "only showing top 20 rows\n",
      "\n"
     ]
    }
   ],
   "source": [
    "df.show()"
   ]
  },
  {
   "cell_type": "code",
   "execution_count": 4,
   "id": "fecbcde7",
   "metadata": {},
   "outputs": [
    {
     "data": {
      "text/plain": [
       "['gender',\n",
       " 'age',\n",
       " 'hypertension',\n",
       " 'heart_disease',\n",
       " 'smoking_history',\n",
       " 'bmi',\n",
       " 'HbA1c_level',\n",
       " 'blood_glucose_level',\n",
       " 'diabetes']"
      ]
     },
     "execution_count": 4,
     "metadata": {},
     "output_type": "execute_result"
    }
   ],
   "source": [
    "df.columns"
   ]
  },
  {
   "cell_type": "code",
   "execution_count": 5,
   "id": "a3a90c81",
   "metadata": {},
   "outputs": [
    {
     "name": "stderr",
     "output_type": "stream",
     "text": [
      "\r",
      "[Stage 2:>                                                          (0 + 1) / 1]\r"
     ]
    },
    {
     "name": "stdout",
     "output_type": "stream",
     "text": [
      "row: 100000, cloumn: 9\n"
     ]
    },
    {
     "name": "stderr",
     "output_type": "stream",
     "text": [
      "\r",
      "                                                                                \r"
     ]
    }
   ],
   "source": [
    "row_count = df.count()\n",
    "column_count = len(df.columns)\n",
    "print(f\"row: {row_count}, cloumn: {column_count}\")"
   ]
  },
  {
   "cell_type": "code",
   "execution_count": 6,
   "id": "4c821c9e",
   "metadata": {},
   "outputs": [
    {
     "name": "stdout",
     "output_type": "stream",
     "text": [
      "root\n",
      " |-- gender: string (nullable = true)\n",
      " |-- age: string (nullable = true)\n",
      " |-- hypertension: string (nullable = true)\n",
      " |-- heart_disease: string (nullable = true)\n",
      " |-- smoking_history: string (nullable = true)\n",
      " |-- bmi: string (nullable = true)\n",
      " |-- HbA1c_level: string (nullable = true)\n",
      " |-- blood_glucose_level: string (nullable = true)\n",
      " |-- diabetes: string (nullable = true)\n",
      "\n"
     ]
    }
   ],
   "source": [
    "df.printSchema()"
   ]
  },
  {
   "cell_type": "code",
   "execution_count": 7,
   "id": "23ea0d81",
   "metadata": {},
   "outputs": [
    {
     "name": "stderr",
     "output_type": "stream",
     "text": [
      "\r",
      "[Stage 5:>                                                          (0 + 1) / 1]\r"
     ]
    },
    {
     "name": "stdout",
     "output_type": "stream",
     "text": [
      "+-------+------+-----------------+------------------+------------------+---------------+\n",
      "|summary|gender|              age|      hypertension|     heart_disease|smoking_history|\n",
      "+-------+------+-----------------+------------------+------------------+---------------+\n",
      "|  count|100000|           100000|            100000|            100000|         100000|\n",
      "|   mean|  null|41.88585600000013|           0.07485|           0.03942|           null|\n",
      "| stddev|  null|22.51683987161704|0.2631504702289171|0.1945930169980986|           null|\n",
      "|    min|Female|             0.08|                 0|                 0|        No Info|\n",
      "|    max| Other|              9.0|                 1|                 1|    not current|\n",
      "+-------+------+-----------------+------------------+------------------+---------------+\n",
      "\n"
     ]
    },
    {
     "name": "stderr",
     "output_type": "stream",
     "text": [
      "\r",
      "                                                                                \r"
     ]
    }
   ],
   "source": [
    "df[\"gender\", \"age\", \"hypertension\", \"heart_disease\", \"smoking_history\"].describe().show()"
   ]
  },
  {
   "cell_type": "code",
   "execution_count": 8,
   "id": "91ed704d",
   "metadata": {},
   "outputs": [
    {
     "name": "stderr",
     "output_type": "stream",
     "text": [
      "\r",
      "[Stage 8:>                                                          (0 + 1) / 1]\r"
     ]
    },
    {
     "name": "stdout",
     "output_type": "stream",
     "text": [
      "+-------+-----------------+------------------+-------------------+-------------------+\n",
      "|summary|              bmi|       HbA1c_level|blood_glucose_level|           diabetes|\n",
      "+-------+-----------------+------------------+-------------------+-------------------+\n",
      "|  count|           100000|            100000|             100000|             100000|\n",
      "|   mean|27.32076709999422|5.5275069999983275|          138.05806|              0.085|\n",
      "| stddev|6.636783416648357|1.0706720918835468|  40.70813604870383|0.27888308976661896|\n",
      "|    min|            10.01|               3.5|                100|                  0|\n",
      "|    max|            95.69|               9.0|                 90|                  1|\n",
      "+-------+-----------------+------------------+-------------------+-------------------+\n",
      "\n"
     ]
    },
    {
     "name": "stderr",
     "output_type": "stream",
     "text": [
      "\r",
      "                                                                                \r"
     ]
    }
   ],
   "source": [
    "df [\"bmi\",\"HbA1c_level\", \"blood_glucose_level\", \"diabetes\"].describe().show()"
   ]
  },
  {
   "cell_type": "markdown",
   "id": "e07481c9",
   "metadata": {},
   "source": [
    "### 2.2 Data Manipulation"
   ]
  },
  {
   "cell_type": "code",
   "execution_count": 9,
   "id": "5ed89ad2",
   "metadata": {},
   "outputs": [],
   "source": [
    "from pyspark.sql.types import (StructField,StringType,IntegerType,StructType,FloatType)"
   ]
  },
  {
   "cell_type": "code",
   "execution_count": 10,
   "id": "eac1267a",
   "metadata": {},
   "outputs": [
    {
     "name": "stdout",
     "output_type": "stream",
     "text": [
      "root\n",
      " |-- gender: string (nullable = true)\n",
      " |-- age: float (nullable = true)\n",
      " |-- hypertension: integer (nullable = true)\n",
      " |-- heart_disease: integer (nullable = true)\n",
      " |-- smoking_history: string (nullable = true)\n",
      " |-- bmi: float (nullable = true)\n",
      " |-- HbA1c_level: float (nullable = true)\n",
      " |-- blood_glucose_level: float (nullable = true)\n",
      " |-- diabetes: integer (nullable = true)\n",
      "\n"
     ]
    }
   ],
   "source": [
    "data_schema = [StructField('gender',StringType(),True),\n",
    "               StructField('age',FloatType(),True),\n",
    "               StructField('hypertension',IntegerType(),True),\n",
    "               StructField('heart_disease',IntegerType(),True),\n",
    "               StructField('smoking_history',StringType(),True),\n",
    "               StructField('bmi',FloatType(),True),\n",
    "               StructField('HbA1c_level',FloatType(),True),\n",
    "               StructField('blood_glucose_level',FloatType(),True),\n",
    "               StructField('diabetes',IntegerType(),True)]\n",
    "final_struct = StructType(fields=data_schema)\n",
    "df = spark.read.csv('diabetes_prediction_dataset.csv', header=True,schema=final_struct)\n",
    "df.printSchema()"
   ]
  },
  {
   "cell_type": "code",
   "execution_count": 11,
   "id": "2e6fd07e",
   "metadata": {},
   "outputs": [
    {
     "name": "stdout",
     "output_type": "stream",
     "text": [
      "<class 'pandas.core.frame.DataFrame'>\n",
      "RangeIndex: 100000 entries, 0 to 99999\n",
      "Data columns (total 9 columns):\n",
      " #   Column               Non-Null Count   Dtype  \n",
      "---  ------               --------------   -----  \n",
      " 0   gender               100000 non-null  object \n",
      " 1   age                  100000 non-null  float64\n",
      " 2   hypertension         100000 non-null  int64  \n",
      " 3   heart_disease        100000 non-null  int64  \n",
      " 4   smoking_history      100000 non-null  object \n",
      " 5   bmi                  100000 non-null  float64\n",
      " 6   HbA1c_level          100000 non-null  float64\n",
      " 7   blood_glucose_level  100000 non-null  int64  \n",
      " 8   diabetes             100000 non-null  int64  \n",
      "dtypes: float64(3), int64(4), object(2)\n",
      "memory usage: 6.9+ MB\n"
     ]
    }
   ],
   "source": [
    "import pandas as pd\n",
    "import matplotlib.pyplot as plt\n",
    "file = \"diabetes_prediction_dataset.csv\"\n",
    "df1 = pd.read_csv(file)\n",
    "df1.info()\n",
    "df_des = round(df1.describe().transpose(),1)\n"
   ]
  },
  {
   "cell_type": "code",
   "execution_count": 12,
   "id": "68b4df3e",
   "metadata": {},
   "outputs": [
    {
     "name": "stdout",
     "output_type": "stream",
     "text": [
      "       gender   age  hypertension  heart_disease smoking_history    bmi  \\\n",
      "2756     Male  80.0             0              0         No Info  27.32   \n",
      "3272   Female  80.0             0              0         No Info  27.32   \n",
      "3418   Female  19.0             0              0         No Info  27.32   \n",
      "3939   Female  78.0             1              0          former  27.32   \n",
      "3960     Male  47.0             0              0         No Info  27.32   \n",
      "...       ...   ...           ...            ...             ...    ...   \n",
      "99980  Female  52.0             0              0           never  27.32   \n",
      "99985    Male  25.0             0              0         No Info  27.32   \n",
      "99989  Female  26.0             0              0         No Info  27.32   \n",
      "99990    Male  39.0             0              0         No Info  27.32   \n",
      "99995  Female  80.0             0              0         No Info  27.32   \n",
      "\n",
      "       HbA1c_level  blood_glucose_level  diabetes  \n",
      "2756           6.6                  159         0  \n",
      "3272           3.5                   80         0  \n",
      "3418           6.5                  100         0  \n",
      "3939           3.5                  130         0  \n",
      "3960           6.0                  200         0  \n",
      "...            ...                  ...       ...  \n",
      "99980          6.1                  145         0  \n",
      "99985          5.8                  145         0  \n",
      "99989          5.0                  158         0  \n",
      "99990          6.1                  100         0  \n",
      "99995          6.2                   90         0  \n",
      "\n",
      "[3854 rows x 9 columns]\n"
     ]
    }
   ],
   "source": [
    "duplicate_rows = df1[df1.duplicated()]\n",
    "print(duplicate_rows)"
   ]
  },
  {
   "cell_type": "code",
   "execution_count": 13,
   "id": "41676243",
   "metadata": {},
   "outputs": [
    {
     "data": {
      "image/png": "[encoded data removed]",
      "text/plain": [
       "<Figure size 576x432 with 1 Axes>"
      ]
     },
     "metadata": {
      "needs_background": "light"
     },
     "output_type": "display_data"
    }
   ],
   "source": [
    "percentage_diabetes = (df1['diabetes'].value_counts(normalize=True) * 100).round(2)\n",
    "plt.figure(figsize=(8, 6))\n",
    "bars = plt.bar(percentage_diabetes.index, percentage_diabetes.values)\n",
    "plt.xlabel('Diabetes')\n",
    "plt.ylabel('Percentage (%)')\n",
    "plt.title('Diabetes Distribution')\n",
    "for bar, percentage in zip(bars, percentage_diabetes.values):\n",
    "    plt.text(bar.get_x() + bar.get_width() / 2 - 0.15, bar.get_height() + 1, f'{percentage}%', fontsize=12)\n",
    "plt.xticks(percentage_diabetes.index, ['No Diabetes', 'Diabetes'])\n",
    "plt.show()"
   ]
  },
  {
   "cell_type": "code",
   "execution_count": 14,
   "id": "045aba19",
   "metadata": {},
   "outputs": [
    {
     "data": {
      "image/png": "[encoded data removed]",
      "text/plain": [
       "<Figure size 576x432 with 1 Axes>"
      ]
     },
     "metadata": {
      "needs_background": "light"
     },
     "output_type": "display_data"
    }
   ],
   "source": [
    "# gender hist\n",
    "percentage_gender = (df1['gender'].value_counts(normalize=True) * 100).round(2)\n",
    "plt.figure(figsize=(8, 6))\n",
    "bars = plt.bar(percentage_gender.index, percentage_gender.values)\n",
    "plt.xlabel('Gender')\n",
    "plt.ylabel('Percentage (%)')\n",
    "plt.title('Gender Distribution')\n",
    "for bar, percentage in zip(bars, percentage_gender.values):\n",
    "    plt.text(bar.get_x() + bar.get_width() / 2 - 0.15, bar.get_height() + 1, f'{percentage}%', fontsize=12)\n",
    "plt.xticks(percentage_gender.index, ['Female', 'Male','Other'])\n",
    "plt.show()"
   ]
  },
  {
   "cell_type": "code",
   "execution_count": 15,
   "id": "ce69c65f",
   "metadata": {},
   "outputs": [
    {
     "data": {
      "image/png": "[encoded data removed]",
      "text/plain": [
       "<Figure size 576x432 with 1 Axes>"
      ]
     },
     "metadata": {
      "needs_background": "light"
     },
     "output_type": "display_data"
    }
   ],
   "source": [
    "# gender overlap diabetes hist\n",
    "gender_diabetes_counts = df1.groupby(['gender', 'diabetes']).size().unstack()\n",
    "gender_diabetes_counts = gender_diabetes_counts.fillna(0) \n",
    "gender_diabetes_ratio = gender_diabetes_counts.divide(gender_diabetes_counts.sum(axis=1), axis=0) * 100\n",
    "ax = gender_diabetes_ratio.plot(kind='bar', stacked=True, figsize=(8, 6))\n",
    "plt.xlabel('Gender')\n",
    "plt.ylabel('Percentage (%)')\n",
    "plt.title('Diabetes Percentage by Gender')\n",
    "plt.xticks(rotation=0)\n",
    "plt.legend(title='Diabetes', labels=['No Diabetes', 'Diabetes'])\n",
    "for i, (index, row) in enumerate(gender_diabetes_ratio.iterrows()):\n",
    "    for j, percentage in enumerate(row):\n",
    "        ax.text(i, row.iloc[:j].sum() + percentage / 2, f'{percentage:.2f}%', ha='center', va='center')\n",
    "plt.show()"
   ]
  },
  {
   "cell_type": "code",
   "execution_count": 16,
   "id": "cafe820d",
   "metadata": {},
   "outputs": [
    {
     "data": {
      "image/png": "[encoded data removed]",
      "text/plain": [
       "<Figure size 864x432 with 1 Axes>"
      ]
     },
     "metadata": {
      "needs_background": "light"
     },
     "output_type": "display_data"
    }
   ],
   "source": [
    "# age overlap diabetes hist\n",
    "df1['age_group'] = pd.cut(df1['age'], bins=range(0, 81, 10), right=False)\n",
    "age_diabetes_counts = df1.groupby(['age_group', 'diabetes']).size().unstack()\n",
    "age_diabetes_counts = age_diabetes_counts.fillna(0)  \n",
    "age_diabetes_ratio = age_diabetes_counts.divide(age_diabetes_counts.sum(axis=1), axis=0) * 100\n",
    "ax = age_diabetes_ratio.plot(kind='bar', stacked=True, figsize=(12, 6))\n",
    "plt.xlabel('Age Group')\n",
    "plt.ylabel('Percentage (%)')\n",
    "plt.title('Diabetes Percentage by Age Group (5-Year Intervals)')\n",
    "plt.xticks(rotation=0)\n",
    "plt.legend(title='Diabetes', labels=['No Diabetes', 'Diabetes'])\n",
    "for i, (index, row) in enumerate(age_diabetes_ratio.iterrows()):\n",
    "    for j, percentage in enumerate(row):\n",
    "        ax.text(i, row.iloc[:j].sum() + percentage / 2, f'{percentage:.2f}%', ha='center', va='center')\n",
    "plt.show()"
   ]
  },
  {
   "cell_type": "code",
   "execution_count": 17,
   "id": "29be16d6",
   "metadata": {},
   "outputs": [
    {
     "data": {
      "image/png": "[encoded data removed]",
      "text/plain": [
       "<Figure size 576x432 with 1 Axes>"
      ]
     },
     "metadata": {
      "needs_background": "light"
     },
     "output_type": "display_data"
    }
   ],
   "source": [
    "# smoking_history hist\n",
    "percentage_diabetes = (df1['smoking_history'].value_counts(normalize=True) * 100).round(2)\n",
    "plt.figure(figsize=(8, 6))\n",
    "bars = plt.bar(percentage_diabetes.index, percentage_diabetes.values)\n",
    "plt.xlabel('smoking_history')\n",
    "plt.ylabel('Percentage (%)')\n",
    "plt.title('Smoking_history Distribution')\n",
    "for bar, percentage in zip(bars, percentage_diabetes.values):\n",
    "    plt.text(bar.get_x() + bar.get_width() / 2 - 0.15, bar.get_height() + 1, f'{percentage}%', fontsize=12)\n",
    "plt.xticks(percentage_diabetes.index)\n",
    "plt.show()"
   ]
  },
  {
   "cell_type": "code",
   "execution_count": 18,
   "id": "fc0a2367",
   "metadata": {},
   "outputs": [
    {
     "data": {
      "text/plain": [
       "age    AxesSubplot(0.125,0.125;0.775x0.755)\n",
       "dtype: object"
      ]
     },
     "execution_count": 18,
     "metadata": {},
     "output_type": "execute_result"
    },
    {
     "data": {
      "image/png": "[encoded data removed]",
      "text/plain": [
       "<Figure size 432x288 with 1 Axes>"
      ]
     },
     "metadata": {
      "needs_background": "light"
     },
     "output_type": "display_data"
    }
   ],
   "source": [
    "# age distribution by gender\n",
    "df1.plot.box(column='age',by='gender')"
   ]
  },
  {
   "cell_type": "markdown",
   "id": "4034fd14",
   "metadata": {},
   "source": [
    "## Step3: Data Processing"
   ]
  },
  {
   "cell_type": "code",
   "execution_count": 19,
   "id": "5fe998e6",
   "metadata": {},
   "outputs": [
    {
     "name": "stdout",
     "output_type": "stream",
     "text": [
      "+---------------+\n",
      "|smoking_history|\n",
      "+---------------+\n",
      "|    not current|\n",
      "|         former|\n",
      "|        No Info|\n",
      "|        current|\n",
      "|          never|\n",
      "|           ever|\n",
      "+---------------+\n",
      "\n"
     ]
    }
   ],
   "source": [
    "distinct_smoking_history = df.select(\"smoking_history\").distinct()\n",
    "distinct_smoking_history.show()"
   ]
  },
  {
   "cell_type": "code",
   "execution_count": 20,
   "id": "f0da831a",
   "metadata": {},
   "outputs": [
    {
     "name": "stdout",
     "output_type": "stream",
     "text": [
      "+------+\n",
      "|gender|\n",
      "+------+\n",
      "|Female|\n",
      "| Other|\n",
      "|  Male|\n",
      "+------+\n",
      "\n"
     ]
    },
    {
     "name": "stderr",
     "output_type": "stream",
     "text": [
      "\r",
      "[Stage 14:>                                                         (0 + 1) / 1]\r",
      "\r",
      "                                                                                \r"
     ]
    }
   ],
   "source": [
    "distinct_gender = df.select(\"gender\").distinct()\n",
    "distinct_gender.show()"
   ]
  },
  {
   "cell_type": "code",
   "execution_count": 21,
   "id": "9ec9c6f0",
   "metadata": {},
   "outputs": [
    {
     "name": "stderr",
     "output_type": "stream",
     "text": [
      "                                                                                \r"
     ]
    },
    {
     "name": "stdout",
     "output_type": "stream",
     "text": [
      "+---------------+\n",
      "|smoking_history|\n",
      "+---------------+\n",
      "|    not current|\n",
      "|         former|\n",
      "|        current|\n",
      "|          never|\n",
      "|           ever|\n",
      "+---------------+\n",
      "\n",
      "+------+\n",
      "|gender|\n",
      "+------+\n",
      "|Female|\n",
      "|  Male|\n",
      "+------+\n",
      "\n"
     ]
    },
    {
     "name": "stderr",
     "output_type": "stream",
     "text": [
      "\r",
      "[Stage 20:>                                                         (0 + 1) / 1]\r",
      "\r",
      "                                                                                \r"
     ]
    }
   ],
   "source": [
    "from pyspark.sql.functions import col\n",
    "filtered_df = df.filter((col(\"smoking_history\") != \"No Info\"))\n",
    "filtered_df = filtered_df.filter((col(\"gender\") != \"Other\"))\n",
    "distinct_smoking_history_1 = filtered_df.select(\"smoking_history\").distinct()\n",
    "distinct_smoking_history_1.show()\n",
    "distinct_gender_1 = filtered_df.select(\"gender\").distinct()\n",
    "distinct_gender_1.show()"
   ]
  },
  {
   "cell_type": "code",
   "execution_count": 22,
   "id": "59c6b9d8",
   "metadata": {},
   "outputs": [
    {
     "name": "stderr",
     "output_type": "stream",
     "text": [
      "                                                                                \r"
     ]
    },
    {
     "data": {
      "image/png": "[encoded data removed]",
      "text/plain": [
       "<Figure size 864x432 with 1 Axes>"
      ]
     },
     "metadata": {
      "needs_background": "light"
     },
     "output_type": "display_data"
    }
   ],
   "source": [
    "import seaborn as sns\n",
    "plt.figure(figsize=(12, 6)) \n",
    "sns.boxplot(data=df.toPandas())\n",
    "plt.show()"
   ]
  },
  {
   "cell_type": "code",
   "execution_count": 23,
   "id": "14d9069b",
   "metadata": {},
   "outputs": [
    {
     "name": "stderr",
     "output_type": "stream",
     "text": [
      "\r",
      "[Stage 24:>                                                         (0 + 1) / 1]\r"
     ]
    },
    {
     "name": "stdout",
     "output_type": "stream",
     "text": [
      "+---------------+\n",
      "|smoking_history|\n",
      "+---------------+\n",
      "|        current|\n",
      "|          never|\n",
      "|           ever|\n",
      "+---------------+\n",
      "\n"
     ]
    },
    {
     "name": "stderr",
     "output_type": "stream",
     "text": [
      "\r",
      "                                                                                \r"
     ]
    }
   ],
   "source": [
    "from pyspark.sql.functions import when\n",
    "\n",
    "values_to_replace = [\"ever\", \"former\", \"not current\"]\n",
    "replacement_value = \"ever\"\n",
    "\n",
    "filtered_df = filtered_df.withColumn(\n",
    "    \"smoking_history\",\n",
    "    when(col(\"smoking_history\").isin(values_to_replace), replacement_value)\n",
    "    .otherwise(col(\"smoking_history\"))\n",
    ")\n",
    "distinct_smoking_history = filtered_df.select(\"smoking_history\").distinct()\n",
    "distinct_smoking_history.show()"
   ]
  },
  {
   "cell_type": "code",
   "execution_count": 24,
   "id": "3f5d7fd6",
   "metadata": {},
   "outputs": [],
   "source": [
    "from pyspark.sql.functions import expr\n",
    "filtered_df = filtered_df.withColumn(\n",
    "    \"smoking_history\",\n",
    "    expr(\"CASE WHEN smoking_history = 'never' THEN 0 WHEN smoking_history = 'ever' THEN 1 ELSE 2 END\")\n",
    ")\n",
    "\n",
    "filtered_df = filtered_df.withColumn(\n",
    "    \"gender\",\n",
    "    expr(\"CASE WHEN gender = 'Female' THEN 0 ELSE 1 END\")\n",
    ")"
   ]
  },
  {
   "cell_type": "code",
   "execution_count": 25,
   "id": "d8fc37bd",
   "metadata": {},
   "outputs": [
    {
     "name": "stdout",
     "output_type": "stream",
     "text": [
      "root\n",
      " |-- gender: integer (nullable = false)\n",
      " |-- age: float (nullable = true)\n",
      " |-- hypertension: integer (nullable = true)\n",
      " |-- heart_disease: integer (nullable = true)\n",
      " |-- smoking_history: integer (nullable = false)\n",
      " |-- bmi: float (nullable = true)\n",
      " |-- HbA1c_level: float (nullable = true)\n",
      " |-- blood_glucose_level: float (nullable = true)\n",
      " |-- diabetes: integer (nullable = true)\n",
      "\n",
      "+------+----+------------+-------------+---------------+-----+-----------+-------------------+--------+\n",
      "|gender| age|hypertension|heart_disease|smoking_history|  bmi|HbA1c_level|blood_glucose_level|diabetes|\n",
      "+------+----+------------+-------------+---------------+-----+-----------+-------------------+--------+\n",
      "|     0|80.0|           0|            1|              0|25.19|        6.6|              140.0|       0|\n",
      "|     1|28.0|           0|            0|              0|27.32|        5.7|              158.0|       0|\n",
      "|     0|36.0|           0|            0|              2|23.45|        5.0|              155.0|       0|\n",
      "|     1|76.0|           1|            1|              2|20.14|        4.8|              155.0|       0|\n",
      "|     0|20.0|           0|            0|              0|27.32|        6.6|               85.0|       0|\n",
      "|     0|44.0|           0|            0|              0|19.31|        6.5|              200.0|       1|\n",
      "|     1|42.0|           0|            0|              0|33.64|        4.8|              145.0|       0|\n",
      "|     0|32.0|           0|            0|              0|27.32|        5.0|              100.0|       0|\n",
      "|     0|53.0|           0|            0|              0|27.32|        6.1|               85.0|       0|\n",
      "|     0|54.0|           0|            0|              1| 54.7|        6.0|              100.0|       0|\n",
      "|     0|78.0|           0|            0|              1|36.05|        5.0|              130.0|       0|\n",
      "|     0|67.0|           0|            0|              0|25.69|        5.8|              200.0|       0|\n",
      "|     1|15.0|           0|            0|              0|30.36|        6.1|              200.0|       0|\n",
      "|     0|42.0|           0|            0|              0|24.48|        5.7|              158.0|       0|\n",
      "|     1|37.0|           0|            0|              1|25.72|        3.5|              159.0|       0|\n",
      "|     1|40.0|           0|            0|              2|36.38|        6.0|               90.0|       0|\n",
      "|     0|69.0|           0|            0|              0|21.24|        4.8|               85.0|       0|\n",
      "|     0|72.0|           0|            1|              1|27.94|        6.5|              130.0|       0|\n",
      "|     1|30.0|           0|            0|              0|33.76|        6.1|              126.0|       0|\n",
      "|     1|67.0|           0|            1|              1|27.32|        6.5|              200.0|       1|\n",
      "+------+----+------------+-------------+---------------+-----+-----------+-------------------+--------+\n",
      "only showing top 20 rows\n",
      "\n"
     ]
    }
   ],
   "source": [
    "filtered_df.printSchema()\n",
    "filtered_df.show()"
   ]
  },
  {
   "cell_type": "code",
   "execution_count": 26,
   "id": "39b2c09f",
   "metadata": {},
   "outputs": [
    {
     "name": "stdout",
     "output_type": "stream",
     "text": [
      "row: 64172, cloumn: 9\n"
     ]
    }
   ],
   "source": [
    "row_count = filtered_df.count()\n",
    "column_count = len(filtered_df.columns)\n",
    "print(f\"row: {row_count}, cloumn: {column_count}\")"
   ]
  },
  {
   "cell_type": "markdown",
   "id": "5dc19901",
   "metadata": {},
   "source": [
    "## Step4: Data Transformation"
   ]
  },
  {
   "cell_type": "code",
   "execution_count": 27,
   "id": "347752cd",
   "metadata": {},
   "outputs": [
    {
     "name": "stderr",
     "output_type": "stream",
     "text": [
      "\r",
      "[Stage 31:>                                                         (0 + 1) / 1]\r",
      "\r",
      "                                                                                \r"
     ]
    },
    {
     "data": {
      "image/png": "[encoded data removed]",
      "text/plain": [
       "<Figure size 720x576 with 2 Axes>"
      ]
     },
     "metadata": {
      "needs_background": "light"
     },
     "output_type": "display_data"
    }
   ],
   "source": [
    "df_filtered = filtered_df.toPandas()\n",
    "correlation_matrix = df_filtered.corr()\n",
    "plt.figure(figsize=(10, 8))\n",
    "sns.heatmap(correlation_matrix, annot=True, cmap=\"coolwarm\", fmt=\".2f\")\n",
    "plt.title(\"Correlation Heatmap\")\n",
    "plt.show()"
   ]
  },
  {
   "cell_type": "code",
   "execution_count": 28,
   "id": "e707b70c",
   "metadata": {},
   "outputs": [
    {
     "name": "stdout",
     "output_type": "stream",
     "text": [
      "Defaulting to user installation because normal site-packages is not writeable\n",
      "Requirement already satisfied: scikit-learn in /home/ubuntu/.local/lib/python3.10/site-packages (1.3.1)\n",
      "Requirement already satisfied: numpy<2.0,>=1.17.3 in /home/ubuntu/.local/lib/python3.10/site-packages (from scikit-learn) (1.22.4)\n",
      "Requirement already satisfied: scipy>=1.5.0 in /home/ubuntu/.local/lib/python3.10/site-packages (from scikit-learn) (1.8.1)\n",
      "Requirement already satisfied: threadpoolctl>=2.0.0 in /home/ubuntu/.local/lib/python3.10/site-packages (from scikit-learn) (3.2.0)\n",
      "Requirement already satisfied: joblib>=1.1.1 in /home/ubuntu/.local/lib/python3.10/site-packages (from scikit-learn) (1.3.2)\n"
     ]
    }
   ],
   "source": [
    "!pip install scikit-learn"
   ]
  },
  {
   "cell_type": "code",
   "execution_count": 29,
   "id": "87fecae4",
   "metadata": {},
   "outputs": [
    {
     "name": "stdout",
     "output_type": "stream",
     "text": [
      "Selected Features: Index(['age', 'hypertension', 'heart_disease', 'bmi', 'HbA1c_level',\n",
      "       'blood_glucose_level'],\n",
      "      dtype='object')\n"
     ]
    }
   ],
   "source": [
    "from sklearn.feature_selection import SelectKBest, f_classif\n",
    "\n",
    "# input and target \n",
    "X = df_filtered.drop('diabetes', axis=1)\n",
    "y = df_filtered['diabetes']\n",
    "\n",
    "# feature selection\n",
    "k_best = SelectKBest(score_func=f_classif, k=6)  \n",
    "X_new = k_best.fit_transform(X, y)\n",
    "\n",
    "# Six most relevant attributes\n",
    "selected_features = X.columns[k_best.get_support()]\n",
    "print(\"Selected Features:\", selected_features)"
   ]
  },
  {
   "cell_type": "code",
   "execution_count": 30,
   "id": "110b86da",
   "metadata": {},
   "outputs": [
    {
     "name": "stdout",
     "output_type": "stream",
     "text": [
      "+----+------------+-------------+-----+-----------+-------------------+--------+\n",
      "| age|hypertension|heart_disease|  bmi|HbA1c_level|blood_glucose_level|diabetes|\n",
      "+----+------------+-------------+-----+-----------+-------------------+--------+\n",
      "|80.0|           0|            1|25.19|        6.6|              140.0|       0|\n",
      "|28.0|           0|            0|27.32|        5.7|              158.0|       0|\n",
      "|36.0|           0|            0|23.45|        5.0|              155.0|       0|\n",
      "|76.0|           1|            1|20.14|        4.8|              155.0|       0|\n",
      "|20.0|           0|            0|27.32|        6.6|               85.0|       0|\n",
      "|44.0|           0|            0|19.31|        6.5|              200.0|       1|\n",
      "|42.0|           0|            0|33.64|        4.8|              145.0|       0|\n",
      "|32.0|           0|            0|27.32|        5.0|              100.0|       0|\n",
      "|53.0|           0|            0|27.32|        6.1|               85.0|       0|\n",
      "|54.0|           0|            0| 54.7|        6.0|              100.0|       0|\n",
      "|78.0|           0|            0|36.05|        5.0|              130.0|       0|\n",
      "|67.0|           0|            0|25.69|        5.8|              200.0|       0|\n",
      "|15.0|           0|            0|30.36|        6.1|              200.0|       0|\n",
      "|42.0|           0|            0|24.48|        5.7|              158.0|       0|\n",
      "|37.0|           0|            0|25.72|        3.5|              159.0|       0|\n",
      "|40.0|           0|            0|36.38|        6.0|               90.0|       0|\n",
      "|69.0|           0|            0|21.24|        4.8|               85.0|       0|\n",
      "|72.0|           0|            1|27.94|        6.5|              130.0|       0|\n",
      "|30.0|           0|            0|33.76|        6.1|              126.0|       0|\n",
      "|67.0|           0|            1|27.32|        6.5|              200.0|       1|\n",
      "+----+------------+-------------+-----+-----------+-------------------+--------+\n",
      "only showing top 20 rows\n",
      "\n"
     ]
    }
   ],
   "source": [
    "filtered_df= filtered_df.drop(\"smoking_history\")\n",
    "filtered_df=filtered_df.drop(\"gender\")\n",
    "filtered_df.show()"
   ]
  },
  {
   "cell_type": "code",
   "execution_count": 31,
   "id": "9a8efb32",
   "metadata": {},
   "outputs": [
    {
     "name": "stdout",
     "output_type": "stream",
     "text": [
      "+--------+-----+\n",
      "|diabetes|count|\n",
      "+--------+-----+\n",
      "|       1| 7046|\n",
      "|       0|57126|\n",
      "+--------+-----+\n",
      "\n",
      "+--------+-----+\n",
      "|diabetes|count|\n",
      "+--------+-----+\n",
      "|       0| 7039|\n",
      "|       1| 7070|\n",
      "+--------+-----+\n",
      "\n"
     ]
    }
   ],
   "source": [
    "from pyspark.ml.feature import VectorAssembler\n",
    "from pyspark.ml.classification import RandomForestClassifier\n",
    "\n",
    "diabetes_counts = filtered_df.groupBy(\"diabetes\").count()\n",
    "diabetes_counts.show()\n",
    "\n",
    "df_high = filtered_df.filter(col(\"diabetes\") == 0)\n",
    "df_low = filtered_df.filter(col(\"diabetes\") == 1)\n",
    "\n",
    "high_count = df_high.count()\n",
    "low_count = df_low.count()\n",
    "\n",
    "sample_size = min(high_count, low_count)\n",
    "df_high_resampled = df_high.sample(True, sample_size / high_count)\n",
    "df_low_resampled = df_low.sample(True, sample_size / low_count)\n",
    "\n",
    "df_resampled = df_high_resampled.union(df_low_resampled)\n",
    "\n",
    "df_resampled.groupBy(\"diabetes\").count().show()"
   ]
  },
  {
   "cell_type": "code",
   "execution_count": 32,
   "id": "79d2724c",
   "metadata": {},
   "outputs": [
    {
     "data": {
      "text/plain": [
       "14109"
      ]
     },
     "execution_count": 32,
     "metadata": {},
     "output_type": "execute_result"
    }
   ],
   "source": [
    "df_resampled.count()"
   ]
  },
  {
   "cell_type": "code",
   "execution_count": 33,
   "id": "de1eee82",
   "metadata": {},
   "outputs": [],
   "source": [
    "from pyspark.ml.classification import LogisticRegression\n",
    "from pyspark.ml.feature import VectorAssembler\n",
    "from pyspark.ml import Pipeline\n",
    "from pyspark.ml.evaluation import MulticlassClassificationEvaluator\n",
    "from pyspark.ml.evaluation import BinaryClassificationEvaluator\n",
    "# Train/test split. \n",
    "train_titanic_data, test_titanic_data = df_resampled.randomSplit([0.8,.2])"
   ]
  },
  {
   "cell_type": "code",
   "execution_count": 34,
   "id": "923c2cb4",
   "metadata": {},
   "outputs": [
    {
     "name": "stderr",
     "output_type": "stream",
     "text": [
      "23/10/10 07:27:12 WARN InstanceBuilder$NativeBLAS: Failed to load implementation from:dev.ludovic.netlib.blas.JNIBLAS\n",
      "23/10/10 07:27:12 WARN InstanceBuilder$NativeBLAS: Failed to load implementation from:dev.ludovic.netlib.blas.ForeignLinkerBLAS\n"
     ]
    }
   ],
   "source": [
    "# Define feature columns\n",
    "feature_cols = [\"age\", \"hypertension\", \"heart_disease\", \"bmi\", \"HbA1c_level\", \"blood_glucose_level\"]\n",
    "\n",
    "#  Create VectorAssembler object for merging feature columns into feature vector columns\n",
    "vector_assembler = VectorAssembler(inputCols=feature_cols, outputCol=\"features\")\n",
    "\n",
    "# Create a logistic regression model object, specifying input feature columns and label columns\n",
    "log_reg_titanic = LogisticRegression(featuresCol='features', labelCol='diabetes')\n",
    "\n",
    "# Create a Machine Learning Workflow Pipeline that combines feature vectorization and logistic regression models\n",
    "pipeline = Pipeline(stages=[vector_assembler, log_reg_titanic])\n",
    "\n",
    "# Use the Pipeline to train on the training data to get a trained model.\n",
    "fit_model = pipeline.fit(train_titanic_data)\n",
    "\n",
    "# Predictions are made on the test data using the trained model and the results are stored in the results DataFrame\n",
    "results = fit_model.transform(test_titanic_data)\n",
    "predictions = results "
   ]
  },
  {
   "cell_type": "code",
   "execution_count": 35,
   "id": "f8825e4b",
   "metadata": {},
   "outputs": [
    {
     "name": "stdout",
     "output_type": "stream",
     "text": [
      "Accuracy for Logistic Regression: 0.8772893772893773\n",
      "Precision: 0.8776623385420497\n"
     ]
    },
    {
     "name": "stderr",
     "output_type": "stream",
     "text": [
      "\r",
      "[Stage 69:=============================>                            (1 + 1) / 2]\r",
      "\r",
      "                                                                                \r"
     ]
    },
    {
     "name": "stdout",
     "output_type": "stream",
     "text": [
      "Recall: 0.8772893772893773\n",
      "F1 Score: 0.8772779008680225\n"
     ]
    }
   ],
   "source": [
    "evaluator = MulticlassClassificationEvaluator(labelCol=\"diabetes\", predictionCol=\"prediction\")\n",
    "\n",
    "accuracy = evaluator.evaluate(predictions, {evaluator.metricName: \"accuracy\"})\n",
    "print(\"Accuracy for Logistic Regression:\", accuracy)\n",
    "\n",
    "# Print a classification report, including precision, recall, F1 score.\n",
    "precision = evaluator.evaluate(predictions, {evaluator.metricName: \"weightedPrecision\"})\n",
    "print(\"Precision:\", precision)\n",
    "\n",
    "recall = evaluator.evaluate(predictions, {evaluator.metricName: \"weightedRecall\"})\n",
    "print(\"Recall:\", recall)\n",
    "\n",
    "f1_score = evaluator.evaluate(predictions, {evaluator.metricName: \"f1\"})\n",
    "print(\"F1 Score:\", f1_score)\n"
   ]
  },
  {
   "cell_type": "code",
   "execution_count": 36,
   "id": "8c2260f7",
   "metadata": {},
   "outputs": [
    {
     "name": "stderr",
     "output_type": "stream",
     "text": [
      "\r",
      "[Stage 73:>                                                         (0 + 1) / 1]\r",
      "\r",
      "                                                                                \r"
     ]
    },
    {
     "name": "stdout",
     "output_type": "stream",
     "text": [
      "+-------------------+-------------------+\n",
      "|            Feature|        Coefficient|\n",
      "+-------------------+-------------------+\n",
      "|                age|0.05189469887535829|\n",
      "|       hypertension| 0.6797111888432507|\n",
      "|      heart_disease| 0.9122439424061742|\n",
      "|                bmi|0.09087666055324162|\n",
      "|        HbA1c_level| 2.1773750112870482|\n",
      "|blood_glucose_level| 0.0320263389825145|\n",
      "+-------------------+-------------------+\n",
      "\n",
      "+-------------+------------------+\n",
      "|      Feature|       Coefficient|\n",
      "+-------------+------------------+\n",
      "|  HbA1c_level|2.1773750112870482|\n",
      "|heart_disease|0.9122439424061742|\n",
      "| hypertension|0.6797111888432507|\n",
      "+-------------+------------------+\n",
      "\n"
     ]
    }
   ],
   "source": [
    "# Get trained logistic regression models\n",
    "lr_model = fit_model.stages[-1]\n",
    "\n",
    "# Obtain the coefficients characterizing the logistic regression model\n",
    "coefficients = lr_model.coefficients\n",
    "\n",
    "# Create a DataFrame with feature column names\n",
    "coefficients_df = spark.createDataFrame([(feature_cols[i], float(coefficients[i])) for i in range(len(feature_cols))], [\"Feature\", \"Coefficient\"])\n",
    "\n",
    "# Print feature coefficients DataFrame\n",
    "coefficients_df.show()\n",
    "\n",
    "# Get the names of the three most relevant feature columns\n",
    "top_3_feature_names = coefficients_df.orderBy(coefficients_df[\"Coefficient\"].desc()).limit(3)\n",
    "\n",
    "# Print the names of the three most relevant feature columns\n",
    "top_3_feature_names.show()"
   ]
  },
  {
   "cell_type": "code",
   "execution_count": 37,
   "id": "4de45cf6",
   "metadata": {},
   "outputs": [
    {
     "data": {
      "image/png": "[encoded data removed]",
      "text/plain": [
       "<Figure size 720x432 with 1 Axes>"
      ]
     },
     "metadata": {
      "needs_background": "light"
     },
     "output_type": "display_data"
    }
   ],
   "source": [
    "# Convert coefficients_df to a Pandas DataFrame\n",
    "coefficients_pd = coefficients_df.toPandas()\n",
    "\n",
    "# Sort the DataFrame by coefficient values\n",
    "coefficients_pd = coefficients_pd.sort_values(by='Coefficient', ascending=False)\n",
    "\n",
    "# Create a bar plot to visualize coefficients\n",
    "plt.figure(figsize=(10, 6))\n",
    "plt.barh(coefficients_pd['Feature'], coefficients_pd['Coefficient'], color='skyblue')\n",
    "plt.xlabel('Coefficient Value')\n",
    "plt.ylabel('Feature')\n",
    "plt.title('Feature Coefficients')\n",
    "plt.gca().invert_yaxis()  # Invert the y-axis to show the most relevant features at the top\n",
    "plt.show()"
   ]
  },
  {
   "cell_type": "code",
   "execution_count": 38,
   "id": "1000d580",
   "metadata": {},
   "outputs": [
    {
     "name": "stdout",
     "output_type": "stream",
     "text": [
      "Training Accuracy: 0.9560993658465369\n",
      "Test Accuracy: 0.9566752599591745\n"
     ]
    }
   ],
   "source": [
    "# Create a BinaryClassificationEvaluator to evaluate accuracy\n",
    "evaluator = BinaryClassificationEvaluator(rawPredictionCol='rawPrediction', labelCol='diabetes')\n",
    "\n",
    "# Evaluate the model on the training data\n",
    "train_accuracy = evaluator.evaluate(fit_model.transform(train_titanic_data))\n",
    "\n",
    "# Evaluate the model on the test data\n",
    "test_accuracy = evaluator.evaluate(results)\n",
    "\n",
    "# Print the accuracies\n",
    "print(\"Training Accuracy:\", train_accuracy)\n",
    "print(\"Test Accuracy:\", test_accuracy)"
   ]
  }
 ],
 "metadata": {
  "kernelspec": {
   "display_name": "Python 3 (ipykernel)",
   "language": "python",
   "name": "python3"
  },
  "language_info": {
   "codemirror_mode": {
    "name": "ipython",
    "version": 3
   },
   "file_extension": ".py",
   "mimetype": "text/x-python",
   "name": "python",
   "nbconvert_exporter": "python",
   "pygments_lexer": "ipython3",
   "version": "3.10.12"
  }
 },
 "nbformat": 4,
 "nbformat_minor": 5
}

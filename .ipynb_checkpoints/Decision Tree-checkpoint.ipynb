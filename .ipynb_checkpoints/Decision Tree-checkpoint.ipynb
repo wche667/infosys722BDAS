{
 "cells": [
  {
   "cell_type": "markdown",
   "id": "714da760",
   "metadata": {},
   "source": [
    "# Data Mining"
   ]
  },
  {
   "cell_type": "markdown",
   "id": "864ee274",
   "metadata": {},
   "source": [
    "## Step2: Data Understanding"
   ]
  },
  {
   "cell_type": "code",
   "execution_count": 1,
   "id": "5303a724",
   "metadata": {},
   "outputs": [
    {
     "name": "stderr",
     "output_type": "stream",
     "text": [
      "WARNING: An illegal reflective access operation has occurred\n",
      "WARNING: Illegal reflective access by org.apache.spark.unsafe.Platform (file:/home/ubuntu/spark-3.2.1-bin-hadoop2.7/jars/spark-unsafe_2.12-3.2.1.jar) to constructor java.nio.DirectByteBuffer(long,int)\n",
      "WARNING: Please consider reporting this to the maintainers of org.apache.spark.unsafe.Platform\n",
      "WARNING: Use --illegal-access=warn to enable warnings of further illegal reflective access operations\n",
      "WARNING: All illegal access operations will be denied in a future release\n",
      "Using Spark's default log4j profile: org/apache/spark/log4j-defaults.properties\n",
      "Setting default log level to \"WARN\".\n",
      "To adjust logging level use sc.setLogLevel(newLevel). For SparkR, use setLogLevel(newLevel).\n",
      "23/10/10 07:26:14 WARN NativeCodeLoader: Unable to load native-hadoop library for your platform... using builtin-java classes where applicable\n",
      "23/10/10 07:26:17 WARN Utils: Service 'SparkUI' could not bind on port 4040. Attempting port 4041.\n",
      "                                                                                \r"
     ]
    }
   ],
   "source": [
    "# Must be included at the beginning of each new notebook. Remember to change the app name.\n",
    "import findspark\n",
    "findspark.init('/home/ubuntu/spark-3.2.1-bin-hadoop2.7')\n",
    "import pyspark\n",
    "from pyspark.sql import SparkSession\n",
    "spark = SparkSession.builder.appName('DD').getOrCreate()\n",
    "df = spark.read.csv('diabetes_prediction_dataset.csv',header=True)"
   ]
  },
  {
   "cell_type": "code",
   "execution_count": 2,
   "id": "8c3a6489",
   "metadata": {},
   "outputs": [
    {
     "name": "stdout",
     "output_type": "stream",
     "text": [
      "root\n",
      " |-- gender: string (nullable = true)\n",
      " |-- age: float (nullable = true)\n",
      " |-- hypertension: integer (nullable = true)\n",
      " |-- heart_disease: integer (nullable = true)\n",
      " |-- smoking_history: string (nullable = true)\n",
      " |-- bmi: float (nullable = true)\n",
      " |-- HbA1c_level: float (nullable = true)\n",
      " |-- blood_glucose_level: float (nullable = true)\n",
      " |-- diabetes: integer (nullable = true)\n",
      "\n"
     ]
    }
   ],
   "source": [
    "from pyspark.sql.types import (StructField,StringType,IntegerType,StructType,FloatType)\n",
    "data_schema = [StructField('gender',StringType(),True),\n",
    "               StructField('age',FloatType(),True),\n",
    "               StructField('hypertension',IntegerType(),True),\n",
    "               StructField('heart_disease',IntegerType(),True),\n",
    "               StructField('smoking_history',StringType(),True),\n",
    "               StructField('bmi',FloatType(),True),\n",
    "               StructField('HbA1c_level',FloatType(),True),\n",
    "               StructField('blood_glucose_level',FloatType(),True),\n",
    "               StructField('diabetes',IntegerType(),True)]\n",
    "final_struct = StructType(fields=data_schema)\n",
    "df = spark.read.csv('diabetes_prediction_dataset.csv', header=True,schema=final_struct)\n",
    "df.printSchema()"
   ]
  },
  {
   "cell_type": "code",
   "execution_count": 3,
   "id": "7ec66f37",
   "metadata": {},
   "outputs": [
    {
     "name": "stderr",
     "output_type": "stream",
     "text": [
      "                                                                                \r"
     ]
    },
    {
     "name": "stdout",
     "output_type": "stream",
     "text": [
      "+---------------+\n",
      "|smoking_history|\n",
      "+---------------+\n",
      "|    not current|\n",
      "|         former|\n",
      "|        current|\n",
      "|          never|\n",
      "|           ever|\n",
      "+---------------+\n",
      "\n"
     ]
    },
    {
     "name": "stderr",
     "output_type": "stream",
     "text": [
      "\r",
      "[Stage 4:>                                                          (0 + 1) / 1]\r"
     ]
    },
    {
     "name": "stdout",
     "output_type": "stream",
     "text": [
      "+------+\n",
      "|gender|\n",
      "+------+\n",
      "|Female|\n",
      "|  Male|\n",
      "+------+\n",
      "\n"
     ]
    },
    {
     "name": "stderr",
     "output_type": "stream",
     "text": [
      "\r",
      "                                                                                \r"
     ]
    }
   ],
   "source": [
    "from pyspark.sql.functions import col\n",
    "filtered_df = df.filter((col(\"smoking_history\") != \"No Info\"))\n",
    "filtered_df = filtered_df.filter((col(\"gender\") != \"Other\"))\n",
    "distinct_smoking_history_1 = filtered_df.select(\"smoking_history\").distinct()\n",
    "distinct_smoking_history_1.show()\n",
    "distinct_gender_1 = filtered_df.select(\"gender\").distinct()\n",
    "distinct_gender_1.show()"
   ]
  },
  {
   "cell_type": "code",
   "execution_count": 4,
   "id": "b3f7761c",
   "metadata": {},
   "outputs": [
    {
     "name": "stdout",
     "output_type": "stream",
     "text": [
      "+---------------+\n",
      "|smoking_history|\n",
      "+---------------+\n",
      "|        current|\n",
      "|          never|\n",
      "|           ever|\n",
      "+---------------+\n",
      "\n"
     ]
    }
   ],
   "source": [
    "from pyspark.sql.functions import when\n",
    "\n",
    "values_to_replace = [\"ever\", \"former\", \"not current\"]\n",
    "replacement_value = \"ever\"\n",
    "\n",
    "filtered_df = filtered_df.withColumn(\n",
    "    \"smoking_history\",\n",
    "    when(col(\"smoking_history\").isin(values_to_replace), replacement_value)\n",
    "    .otherwise(col(\"smoking_history\"))\n",
    ")\n",
    "distinct_smoking_history = filtered_df.select(\"smoking_history\").distinct()\n",
    "distinct_smoking_history.show()"
   ]
  },
  {
   "cell_type": "code",
   "execution_count": 5,
   "id": "5e4f8d6d",
   "metadata": {},
   "outputs": [],
   "source": [
    "from pyspark.sql.functions import expr\n",
    "filtered_df = filtered_df.withColumn(\n",
    "    \"smoking_history\",\n",
    "    expr(\"CASE WHEN smoking_history = 'never' THEN 0 WHEN smoking_history = 'ever' THEN 1 ELSE 2 END\")\n",
    ")\n",
    "\n",
    "filtered_df = filtered_df.withColumn(\n",
    "    \"gender\",\n",
    "    expr(\"CASE WHEN gender = 'Female' THEN 0 ELSE 1 END\")\n",
    ")"
   ]
  },
  {
   "cell_type": "code",
   "execution_count": 6,
   "id": "b91a92c4",
   "metadata": {},
   "outputs": [],
   "source": [
    "filtered_df= filtered_df.drop(\"smoking_history\")\n",
    "filtered_df=filtered_df.drop(\"gender\")"
   ]
  },
  {
   "cell_type": "code",
   "execution_count": 7,
   "id": "4751a791",
   "metadata": {},
   "outputs": [
    {
     "name": "stderr",
     "output_type": "stream",
     "text": [
      "                                                                                \r"
     ]
    },
    {
     "name": "stdout",
     "output_type": "stream",
     "text": [
      "+--------+-----+\n",
      "|diabetes|count|\n",
      "+--------+-----+\n",
      "|       1| 7046|\n",
      "|       0|57126|\n",
      "+--------+-----+\n",
      "\n"
     ]
    },
    {
     "name": "stderr",
     "output_type": "stream",
     "text": [
      "                                                                                \r"
     ]
    },
    {
     "name": "stdout",
     "output_type": "stream",
     "text": [
      "+--------+-----+\n",
      "|diabetes|count|\n",
      "+--------+-----+\n",
      "|       0| 6947|\n",
      "|       1| 6983|\n",
      "+--------+-----+\n",
      "\n"
     ]
    }
   ],
   "source": [
    "from pyspark.ml.feature import VectorAssembler\n",
    "from pyspark.ml.classification import RandomForestClassifier\n",
    "\n",
    "diabetes_counts = filtered_df.groupBy(\"diabetes\").count()\n",
    "diabetes_counts.show()\n",
    "\n",
    "df_high = filtered_df.filter(col(\"diabetes\") == 0)\n",
    "df_low = filtered_df.filter(col(\"diabetes\") == 1)\n",
    "\n",
    "high_count = df_high.count()\n",
    "low_count = df_low.count()\n",
    "\n",
    "sample_size = min(high_count, low_count)\n",
    "df_high_resampled = df_high.sample(True, sample_size / high_count)\n",
    "df_low_resampled = df_low.sample(True, sample_size / low_count)\n",
    "\n",
    "df_resampled = df_high_resampled.union(df_low_resampled)\n",
    "\n",
    "df_resampled.groupBy(\"diabetes\").count().show()"
   ]
  },
  {
   "cell_type": "markdown",
   "id": "61a46627",
   "metadata": {},
   "source": [
    "decision Tree "
   ]
  },
  {
   "cell_type": "code",
   "execution_count": 8,
   "id": "f6e17cee",
   "metadata": {},
   "outputs": [
    {
     "name": "stderr",
     "output_type": "stream",
     "text": [
      "                                                                                \r"
     ]
    }
   ],
   "source": [
    "from pyspark.ml.classification import DecisionTreeClassifier\n",
    "from pyspark.ml.evaluation import MulticlassClassificationEvaluator\n",
    "# Define feature columns\n",
    "train_titanic_data, test_titanic_data = df_resampled.randomSplit([0.7,.3])\n",
    "\n",
    "feature_cols = [\"age\", \"hypertension\", \"heart_disease\", \"bmi\", \"HbA1c_level\", \"blood_glucose_level\"]\n",
    "\n",
    "# Create a feature vectorizer\n",
    "vector_assembler = VectorAssembler(inputCols=feature_cols, outputCol=\"features\")\n",
    "\n",
    "# Merge feature columns into feature vector columns using the feature vectorizer\n",
    "train_data = vector_assembler.transform(train_titanic_data)\n",
    "test_data = vector_assembler.transform(test_titanic_data)\n",
    "\n",
    "# Create decision tree classifiers\n",
    "dt = DecisionTreeClassifier(featuresCol=\"features\", labelCol=\"diabetes\")\n",
    "\n",
    "# Training decision tree models\n",
    "model = dt.fit(train_data)\n",
    "\n",
    "# Predictions using models\n",
    "predictions = model.transform(test_data)"
   ]
  },
  {
   "cell_type": "code",
   "execution_count": 9,
   "id": "69ea5480",
   "metadata": {},
   "outputs": [
    {
     "name": "stderr",
     "output_type": "stream",
     "text": [
      "\r",
      "[Stage 39:>                                                         (0 + 2) / 2]\r"
     ]
    },
    {
     "name": "stdout",
     "output_type": "stream",
     "text": [
      "Accuracy for Decision Tree: 0.8858371148793885\n"
     ]
    },
    {
     "name": "stderr",
     "output_type": "stream",
     "text": [
      "                                                                                \r"
     ]
    },
    {
     "name": "stdout",
     "output_type": "stream",
     "text": [
      "Precision: 0.89170065485559\n",
      "Recall: 0.8858371148793887\n",
      "F1 Score: 0.8852938503953166\n"
     ]
    },
    {
     "name": "stderr",
     "output_type": "stream",
     "text": [
      "\r",
      "[Stage 45:>                                                         (0 + 2) / 2]\r",
      "\r",
      "                                                                                \r"
     ]
    }
   ],
   "source": [
    "# Create a MulticlassClassificationEvaluator evaluator to calculate the accuracy rate\n",
    "evaluator = MulticlassClassificationEvaluator(labelCol=\"diabetes\", predictionCol=\"prediction\", metricName=\"accuracy\")\n",
    "\n",
    "# Accuracy of computational models on test data\n",
    "accuracy = evaluator.evaluate(predictions)\n",
    "print(\"Accuracy for Decision Tree:\", accuracy)\n",
    "\n",
    "# Print a classification report, including precision, recall, F1 score.\n",
    "evaluator = MulticlassClassificationEvaluator(labelCol=\"diabetes\", predictionCol=\"prediction\", metricName=\"weightedPrecision\")\n",
    "precision = evaluator.evaluate(predictions)\n",
    "\n",
    "evaluator = MulticlassClassificationEvaluator(labelCol=\"diabetes\", predictionCol=\"prediction\", metricName=\"weightedRecall\")\n",
    "recall = evaluator.evaluate(predictions)\n",
    "\n",
    "evaluator = MulticlassClassificationEvaluator(labelCol=\"diabetes\", predictionCol=\"prediction\", metricName=\"weightedFMeasure\")\n",
    "f1_score = evaluator.evaluate(predictions)\n",
    "\n",
    "print(\"Precision:\", precision)\n",
    "print(\"Recall:\", recall)\n",
    "print(\"F1 Score:\", f1_score)"
   ]
  },
  {
   "cell_type": "code",
   "execution_count": 10,
   "id": "adad8965",
   "metadata": {},
   "outputs": [
    {
     "name": "stderr",
     "output_type": "stream",
     "text": [
      "                                                                                \r"
     ]
    },
    {
     "name": "stdout",
     "output_type": "stream",
     "text": [
      "+-------------------+-------------------+\n",
      "|            Feature|         Importance|\n",
      "+-------------------+-------------------+\n",
      "|                age|0.07807534056730657|\n",
      "|       hypertension|                0.0|\n",
      "|      heart_disease|                0.0|\n",
      "|                bmi|                0.0|\n",
      "|        HbA1c_level| 0.5358838585799305|\n",
      "|blood_glucose_level| 0.3860408008527629|\n",
      "+-------------------+-------------------+\n",
      "\n",
      "+-------------------+-------------------+\n",
      "|            Feature|         Importance|\n",
      "+-------------------+-------------------+\n",
      "|        HbA1c_level| 0.5358838585799305|\n",
      "|blood_glucose_level| 0.3860408008527629|\n",
      "|                age|0.07807534056730657|\n",
      "+-------------------+-------------------+\n",
      "\n"
     ]
    }
   ],
   "source": [
    "# Get a trained decision tree model\n",
    "tree_model = model\n",
    "\n",
    "# Obtain feature importance scores for decision tree models\n",
    "feature_importance = tree_model.featureImportances\n",
    "\n",
    "# Create a DataFrame with feature column names\n",
    "importance_df = spark.createDataFrame([(feature_cols[i], float(feature_importance[i])) for i in range(len(feature_cols))], [\"Feature\", \"Importance\"])\n",
    "\n",
    "# Print Feature Importance DataFrame\n",
    "importance_df.show()\n",
    "\n",
    "# Get the names of the three most relevant feature columns\n",
    "top_3_feature_names = importance_df.orderBy(importance_df[\"Importance\"].desc()).limit(3)\n",
    "\n",
    "# Print the names of the three most relevant feature columns\n",
    "top_3_feature_names.show()"
   ]
  },
  {
   "cell_type": "code",
   "execution_count": 11,
   "id": "07184ae4",
   "metadata": {},
   "outputs": [
    {
     "data": {
      "image/png": "[encoded data removed]",
      "text/plain": [
       "<Figure size 720x432 with 1 Axes>"
      ]
     },
     "metadata": {
      "needs_background": "light"
     },
     "output_type": "display_data"
    }
   ],
   "source": [
    "import matplotlib.pyplot as plt\n",
    "import pandas as pd\n",
    "# Convert importance_df to a Pandas DataFrame\n",
    "importance_pd = importance_df.toPandas()\n",
    "\n",
    "# Sort the DataFrame by importance values\n",
    "importance_pd = importance_pd.sort_values(by='Importance', ascending=False)\n",
    "\n",
    "# Create a bar plot to visualize feature importance\n",
    "plt.figure(figsize=(10, 6))\n",
    "plt.barh(importance_pd['Feature'], importance_pd['Importance'], color='lightcoral')\n",
    "plt.xlabel('Importance Value')\n",
    "plt.ylabel('Feature')\n",
    "plt.title('Feature Importance')\n",
    "plt.gca().invert_yaxis()  # Invert the y-axis to show the most relevant features at the top\n",
    "plt.show()"
   ]
  },
  {
   "cell_type": "code",
   "execution_count": 12,
   "id": "e22f0e7a",
   "metadata": {},
   "outputs": [
    {
     "name": "stderr",
     "output_type": "stream",
     "text": [
      "\r",
      "[Stage 52:>                                                         (0 + 2) / 2]\r",
      "\r",
      "                                                                                \r"
     ]
    },
    {
     "name": "stdout",
     "output_type": "stream",
     "text": [
      "Training Accuracy: 0.883711382531048\n",
      "Test Accuracy: 0.8858371148793885\n"
     ]
    },
    {
     "name": "stderr",
     "output_type": "stream",
     "text": [
      "\r",
      "[Stage 54:=============================>                            (1 + 1) / 2]\r",
      "\r",
      "                                                                                \r"
     ]
    }
   ],
   "source": [
    "# Create a MulticlassClassificationEvaluator to evaluate accuracy\n",
    "evaluator = MulticlassClassificationEvaluator(labelCol=\"diabetes\", predictionCol=\"prediction\", metricName=\"accuracy\")\n",
    "\n",
    "# Evaluate the model on the training data\n",
    "train_accuracy = evaluator.evaluate(model.transform(train_data))\n",
    "\n",
    "# Evaluate the model on the test data\n",
    "test_accuracy = evaluator.evaluate(model.transform(test_data))\n",
    "\n",
    "# Print the accuracies\n",
    "print(\"Training Accuracy:\", train_accuracy)\n",
    "print(\"Test Accuracy:\", test_accuracy)"
   ]
  },
  {
   "cell_type": "code",
   "execution_count": null,
   "id": "d6a42ed3",
   "metadata": {},
   "outputs": [],
   "source": []
  }
 ],
 "metadata": {
  "kernelspec": {
   "display_name": "Python 3 (ipykernel)",
   "language": "python",
   "name": "python3"
  },
  "language_info": {
   "codemirror_mode": {
    "name": "ipython",
    "version": 3
   },
   "file_extension": ".py",
   "mimetype": "text/x-python",
   "name": "python",
   "nbconvert_exporter": "python",
   "pygments_lexer": "ipython3",
   "version": "3.10.12"
  }
 },
 "nbformat": 4,
 "nbformat_minor": 5
}
